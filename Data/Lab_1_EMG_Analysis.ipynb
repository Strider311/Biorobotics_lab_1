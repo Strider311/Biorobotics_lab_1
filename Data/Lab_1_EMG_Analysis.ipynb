{
 "cells": [
  {
   "attachments": {},
   "cell_type": "markdown",
   "metadata": {},
   "source": [
    "# Lab 1: EMG Signal Analysis\n",
    "\n",
    "Basics of signal analysis with python"
   ]
  },
  {
   "attachments": {},
   "cell_type": "markdown",
   "metadata": {},
   "source": [
    "## Libraries\n",
    "The following libraries are the \"bread and butter\" of data analysis in python"
   ]
  },
  {
   "cell_type": "code",
   "execution_count": null,
   "metadata": {},
   "outputs": [],
   "source": [
    "import pandas as pd # Tabular data\n",
    "import numpy as np # Working with Arrays\n",
    "import scipy # Scientific computation\n",
    "import scipy.signal \n",
    "import matplotlib.pyplot as plt # Plotting Data"
   ]
  },
  {
   "attachments": {},
   "cell_type": "markdown",
   "metadata": {},
   "source": [
    "## Working with files using `os` library\n",
    "\n",
    "the `os` library, \"operating system\", allows for interaction with the operating system such as reading and writing to files."
   ]
  },
  {
   "cell_type": "code",
   "execution_count": null,
   "metadata": {},
   "outputs": [],
   "source": [
    "import os\n",
    "directory = 'Data/'\n",
    "file_name = '' # Add file name here\n",
    "emg_df = pd.read_csv(directory + file_name) # Read the CSV file into a pandas dataframe\n",
    "emg_df.columns = emg_df.columns.str.replace(' ','') # Replace the spaces in the column titles for easier handling"
   ]
  },
  {
   "cell_type": "code",
   "execution_count": null,
   "metadata": {},
   "outputs": [],
   "source": [
    "# Display the data frame preview\n",
    "display(emg_df)"
   ]
  },
  {
   "attachments": {},
   "cell_type": "markdown",
   "metadata": {},
   "source": [
    "## Plotting data\n",
    "\n",
    "Previewing tabular data is nice, but does not give insight into the data itself. Large datasets can have thousands of lines and real data measurements will be very intensive (this data is 1,405,884 rows) which is unreasonable to review in a tabular method. To view the data, `matplotlib` library will be used to plot mVolts measurement vs Time."
   ]
  },
  {
   "cell_type": "code",
   "execution_count": 5,
   "metadata": {},
   "outputs": [
    {
     "data": {
      "text/plain": [
       "1"
      ]
     },
     "execution_count": 5,
     "metadata": {},
     "output_type": "execute_result"
    }
   ],
   "source": [
    "channel = [x for x in range(1,9)] # Create channel variables to be used\n",
    "\n",
    "plt.figure()\n",
    "ax = emg_df['EMG_'+str(channel[0])].plot()\n",
    "plt.title(' insert your title ' + str(channel))\n",
    "plt.ylabel('mVolts')\n",
    "plt.xlabel('Time')\n",
    "plt.show()\n"
   ]
  },
  {
   "cell_type": "code",
   "execution_count": null,
   "metadata": {},
   "outputs": [],
   "source": [
    "# Plotting multiple channels at once\n",
    "\n",
    "for channel in ['X','Y','Z']:\n",
    "    plt.figure()\n",
    "    emg_df['Acc_'+channel].plot()\n",
    "    plt.title('Acc_'+str(channel))\n",
    "    plt.ylabel('g')\n",
    "    plt.xlabel('Time')\n",
    "    plt.show()"
   ]
  }
 ],
 "metadata": {
  "kernelspec": {
   "display_name": "Python 3",
   "language": "python",
   "name": "python3"
  },
  "language_info": {
   "codemirror_mode": {
    "name": "ipython",
    "version": 3
   },
   "file_extension": ".py",
   "mimetype": "text/x-python",
   "name": "python",
   "nbconvert_exporter": "python",
   "pygments_lexer": "ipython3",
   "version": "3.11.1"
  },
  "orig_nbformat": 4,
  "vscode": {
   "interpreter": {
    "hash": "0dc473c2bc09f2c7cd419cafb6a4dc170eeb9e590aaaa02f46f1ef8f344a2e4a"
   }
  }
 },
 "nbformat": 4,
 "nbformat_minor": 2
}
